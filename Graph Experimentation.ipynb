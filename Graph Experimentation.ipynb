{
 "cells": [
  {
   "cell_type": "code",
   "execution_count": 1,
   "metadata": {
    "scrolled": true
   },
   "outputs": [
    {
     "name": "stdout",
     "output_type": "stream",
     "text": [
      "\n",
      "Nodes:  ['A', 'B', 'C', 'D', 'E', 'F', 'G']\n",
      "\n",
      "Edges:  [('A', 'B', 0), ('A', 'G', 0), ('B', 'C', 0), ('B', 'G', 0), ('C', 'D', 0), ('C', 'F', 0), ('D', 'E', 0), ('E', 'F', 0), ('F', 'G', 0)]\n"
     ]
    },
    {
     "ename": "NameError",
     "evalue": "name 'edge_labels' is not defined",
     "output_type": "error",
     "traceback": [
      "\u001b[0;31m---------------------------------------------------------------------------\u001b[0m",
      "\u001b[0;31mNameError\u001b[0m                                 Traceback (most recent call last)",
      "\u001b[0;32m<ipython-input-1-f868042d0b6a>\u001b[0m in \u001b[0;36m<module>\u001b[0;34m\u001b[0m\n\u001b[1;32m     65\u001b[0m \u001b[0;34m\u001b[0m\u001b[0m\n\u001b[1;32m     66\u001b[0m \u001b[0;31m# plt.subplot(121)\u001b[0m\u001b[0;34m\u001b[0m\u001b[0;34m\u001b[0m\u001b[0;34m\u001b[0m\u001b[0m\n\u001b[0;32m---> 67\u001b[0;31m \u001b[0mnx\u001b[0m\u001b[0;34m.\u001b[0m\u001b[0mdraw\u001b[0m\u001b[0;34m(\u001b[0m\u001b[0mG\u001b[0m\u001b[0;34m,\u001b[0m \u001b[0mpos\u001b[0m\u001b[0;34m,\u001b[0m \u001b[0mlabels\u001b[0m\u001b[0;34m=\u001b[0m\u001b[0medge_labels\u001b[0m\u001b[0;34m)\u001b[0m\u001b[0;34m\u001b[0m\u001b[0;34m\u001b[0m\u001b[0m\n\u001b[0m\u001b[1;32m     68\u001b[0m \u001b[0;31m# nx.draw(G, with_labels=True, font_weight='bold', labels = edge_labels)\u001b[0m\u001b[0;34m\u001b[0m\u001b[0;34m\u001b[0m\u001b[0;34m\u001b[0m\u001b[0m\n\u001b[1;32m     69\u001b[0m \u001b[0;34m\u001b[0m\u001b[0m\n",
      "\u001b[0;31mNameError\u001b[0m: name 'edge_labels' is not defined"
     ]
    }
   ],
   "source": [
    "# following: https://networkx.github.io/documentation/stable/tutorial.html\n",
    "\n",
    "import networkx as nx\n",
    "import matplotlib.pyplot as plt\n",
    "import graphviz\n",
    "import pylab\n",
    "\n",
    "# G = nx.petersen_graph()\n",
    "# G = nx.tutte_graph()\n",
    "# G = nx.sedgewick_maze_graph() # varrying number of edges\n",
    "# G = nx.tetrahedral_graph()\n",
    "\n",
    "# G = nx.petersen_graph()\n",
    "# for item in (dir(G)):\n",
    "#     if item[0] != \"_\":\n",
    "#         print(item)\n",
    "        \n",
    "    \n",
    "G = nx.MultiGraph()\n",
    "\n",
    "nodes_list = ['A', 'B', 'C', 'D', 'E', 'F', 'G']\n",
    "\n",
    "for node in nodes_list:\n",
    "    G.add_node(node)\n",
    "\n",
    "# Create base relationships\n",
    "# G.add_edge('A', 'B', weight = 42)\n",
    "# G.add_edge('B', 'C') #, 'weight' = 38)\n",
    "# G.add_edge('C', 'D') #, 'weight' = 70)\n",
    "# G.add_edge('D', 'E') #, 'weight' = 80)\n",
    "# G.add_edge('E', 'F') #, 'weight' = 62)\n",
    "# G.add_edge('F', 'G') #, 'weight' = 40)\n",
    "# G.add_edge('G', 'A') #, 'weight' = 45)\n",
    "# G.add_edge('G', 'B') #, 'weight' = 35)\n",
    "# G.add_edge('C', 'F') #, 'weight' = 28)\n",
    "\n",
    "G.add_edge('A', 'B', weight=42)\n",
    "G.add_edge('B', 'C', weight=38)\n",
    "G.add_edge('C', 'D', weight=70)\n",
    "G.add_edge('D', 'E', weight=80)\n",
    "G.add_edge('E', 'F', weight=62)\n",
    "G.add_edge('F', 'G', weight=40)\n",
    "G.add_edge('G', 'A', weight=45)\n",
    "G.add_edge('G', 'B', weight=35)\n",
    "G.add_edge('C', 'F', weight=28)\n",
    "\n",
    "pos = nx.spring_layout(G)\n",
    "\n",
    "\n",
    "print(\"\\nNodes: \", G.nodes)\n",
    "print(\"\\nEdges: \", G.edges)\n",
    "\n",
    "\n",
    "# edge_label_dict = {}\n",
    "\n",
    "# for edge in G.edges:    \n",
    "#     key = edge[0:2]\n",
    "#     value = edge[2]\n",
    "    \n",
    "#     edge_label_dict[key] = value\n",
    "    \n",
    "# print(edge_label_dict)\n",
    "\n",
    "# edge_labels_ = nx.get_edge_attributes(G,'weight')\n",
    "\n",
    "# plt.subplot(121)\n",
    "nx.draw(G, pos, labels=edge_labels)\n",
    "# nx.draw(G, with_labels=True, font_weight='bold', labels = edge_labels)\n",
    "\n",
    "# nx.draw_networkx_edge_labels(G, pos, edge_labels = edge_labels_)\n",
    "\n",
    "# A = nx.to_agraph(G)\n",
    "# A.add_subgraph()\n",
    "# A.draw(prog='dot')\n",
    "\n"
   ]
  },
  {
   "cell_type": "code",
   "execution_count": 82,
   "metadata": {},
   "outputs": [
    {
     "data": {
      "image/png": "[encoded data removed]",
      "text/plain": [
       "<Figure size 432x288 with 1 Axes>"
      ]
     },
     "metadata": {},
     "output_type": "display_data"
    }
   ],
   "source": [
    "G.add_edge(1,7)\n",
    "\n",
    "# plt.subplot(121)\n",
    "nx.draw(G, with_labels=True, font_weight='bold')"
   ]
  },
  {
   "cell_type": "code",
   "execution_count": 69,
   "metadata": {},
   "outputs": [
    {
     "name": "stdout",
     "output_type": "stream",
     "text": [
      "0 : 3\n",
      "1 : 1\n",
      "5 : 3\n",
      "7 : 3\n"
     ]
    }
   ],
   "source": [
    "# 1. List all odd vertices.\n",
    "\n",
    "\n",
    "# make a dict and set all keys to be a node \n",
    "count_edges_dict = dict.fromkeys(G.nodes, 0)\n",
    "\n",
    "# count how many times each node shows up in an edge \n",
    "for edge in G.edges:\n",
    "    \n",
    "    # increament node count in dict \n",
    "    for node in edge:\n",
    "        \n",
    "        count_edges_dict[node] = count_edges_dict[node] + 1\n",
    "        \n",
    "odd_edges_list = []\n",
    "\n",
    "for node in count_edges_dict:\n",
    "    \n",
    "    # find the odd verticies\n",
    "        \n",
    "    if count_edges_dict[node] % 2 != 0: \n",
    "        print(node, \":\", count_edges_dict[node])\n",
    "        odd_edges_list.append(node)\n",
    "        \n",
    "    "
   ]
  },
  {
   "cell_type": "code",
   "execution_count": null,
   "metadata": {},
   "outputs": [],
   "source": []
  },
  {
   "cell_type": "code",
   "execution_count": 70,
   "metadata": {},
   "outputs": [
    {
     "name": "stdout",
     "output_type": "stream",
     "text": [
      "odd_edges_list: [0, 1, 5, 7]\n",
      "num_odd_edges: 4\n",
      "odd_pairings_options:  [(0, 5), (0, 7), (1, 7)]\n"
     ]
    }
   ],
   "source": [
    "# 2. List all possible pairings of odd vertices.\n",
    "\n",
    "print(\"odd_edges_list:\", odd_edges_list)\n",
    "\n",
    "# get all combos of the list \n",
    "\n",
    "num_odd_edges = len(odd_edges_list)\n",
    "\n",
    "print(\"num_odd_edges:\", num_odd_edges)\n",
    "\n",
    "possible_odd_edges = []\n",
    "\n",
    "i = 0\n",
    "while i < num_odd_edges:\n",
    "#     print(\"\\n\\ni:\", i)\n",
    "#     print(odd_edges_list[i])\n",
    "    \n",
    "    all_other_nodes = odd_edges_list[0:i] + odd_edges_list[i+1:]\n",
    "    \n",
    "    for other_node in all_other_nodes:\n",
    "        # make sure the reverse order of the edge isn't already in the possible_odd_edges list, since it's \n",
    "        # an undirected graph\n",
    "        if ((odd_edges_list[i], other_node) not in possible_odd_edges) and (other_node, odd_edges_list[i]) not in possible_odd_edges:\n",
    "            possible_odd_edges.append((odd_edges_list[i], other_node))\n",
    "    \n",
    "#     print(\"other nodes:\", all_other_nodes)\n",
    "    \n",
    "    i = i + 1\n",
    "         \n",
    "# print(possible_odd_edges)\n",
    "\n",
    "# see which combos, or reverse order combos, exist in G.edges \n",
    "\n",
    "odd_pairings_options = []\n",
    "\n",
    "for item in possible_odd_edges:\n",
    "    if item in G.edges:\n",
    "        odd_pairings_options.append(item)\n",
    "        \n",
    "print(\"odd_pairings_options: \", odd_pairings_options)\n",
    "    "
   ]
  },
  {
   "cell_type": "code",
   "execution_count": 59,
   "metadata": {},
   "outputs": [
    {
     "name": "stdout",
     "output_type": "stream",
     "text": [
      "[(0, 2), (0, 7), (0, 5), (1, 7), (2, 6), (3, 4), (3, 5), (4, 5), (4, 7), (4, 6)]\n",
      "[(0, 2), (0, 7), (0, 5), (1, 7), (2, 6), (3, 4), (3, 5), (4, 5), (4, 7), (4, 6), (0, 5), (0, 7), (1, 7)]\n"
     ]
    }
   ],
   "source": [
    "# 3. For each pairing find the edges that connect the vertices with the minimum weight.\n",
    "\n",
    "G_edges_list = list(G.edges)\n",
    "\n",
    "New_G_edges = G_edges_list + odd_pairings_options\n",
    "\n",
    "print(G.edges)\n",
    "print(New_G_edges)\n",
    "\n",
    "# New_G_nodes = G.nodes()\n",
    "\n",
    "\n",
    "# print(\"\\nG.edges:\", G.edges)\n",
    "# print(\"\\nNew_G.edges: \",New_G.edges)\n",
    "# print(\"\\nNew_G.nodes: \", New_G.nodes)\n",
    "\n",
    "\n",
    "# New_G = nx.sedgewick_maze_graph()\n",
    "# New_G.add_edges_from(New_G_edges)\n"
   ]
  },
  {
   "cell_type": "code",
   "execution_count": 36,
   "metadata": {},
   "outputs": [],
   "source": [
    "# 4. Find the pairings such that the sum of the weights is minimised.\n"
   ]
  },
  {
   "cell_type": "code",
   "execution_count": null,
   "metadata": {},
   "outputs": [],
   "source": [
    "# 5. On the original graph add the edges that have been found in Step 4.\n"
   ]
  },
  {
   "cell_type": "code",
   "execution_count": 26,
   "metadata": {},
   "outputs": [],
   "source": [
    "# 6. The length of an optimal Chinese postman route is the sum of all the edges added to the total found in Step 4.\n",
    "    "
   ]
  },
  {
   "cell_type": "code",
   "execution_count": null,
   "metadata": {},
   "outputs": [],
   "source": [
    "# 7. Find a route corresponding to this minimum weight."
   ]
  }
 ],
 "metadata": {
  "kernelspec": {
   "display_name": "Python 3",
   "language": "python",
   "name": "python3"
  },
  "language_info": {
   "codemirror_mode": {
    "name": "ipython",
    "version": 3
   },
   "file_extension": ".py",
   "mimetype": "text/x-python",
   "name": "python",
   "nbconvert_exporter": "python",
   "pygments_lexer": "ipython3",
   "version": "3.6.7"
  }
 },
 "nbformat": 4,
 "nbformat_minor": 2
}
