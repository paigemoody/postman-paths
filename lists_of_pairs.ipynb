{
 "cells": [
  {
   "cell_type": "code",
   "execution_count": 1,
   "metadata": {},
   "outputs": [],
   "source": [
    "# alpha_list = ['A','B','C','D']\n",
    "\n",
    "# op_1 = [(A,B), (C,D)] \n",
    "# op_2 = [(A,C), (B,D)]\n",
    "# op_3 = [(A,D), (B,C)]\n",
    "# op_4 = [(B,C), (A,D)] # same as op3\n",
    "# op_5 = [(B,D), (A,C)] # same as op2\n",
    "# op_6 = [(C,D), (A,B)] # same as op1\n",
    "\n",
    "# expected result: [\n",
    "#                   [ (A,B), (C,D) ], \n",
    "#                   [ (A,C), (B,D) ], \n",
    "#                   [ (A,D), (B,C) ]\n",
    "#                  ]"
   ]
  },
  {
   "cell_type": "code",
   "execution_count": 13,
   "metadata": {},
   "outputs": [
    {
     "data": {
      "text/plain": [
       "<generator object all_pairs at 0x7f0100348c50>"
      ]
     },
     "execution_count": 13,
     "metadata": {},
     "output_type": "execute_result"
    }
   ],
   "source": [
    "# recursive solution: https://stackoverflow.com/questions/5360220/how-to-split-a-list-into-pairs-in-all-possible-ways\n",
    "\n",
    "import itertools\n",
    "\n",
    "alpha_list = ['A','B','C','D','E', 'F']\n",
    "\n",
    "# from: https://stackoverflow.com/questions/5360220/how-to-split-a-list-into-pairs-in-all-possible-ways\n",
    "\n",
    "def all_pairs(lst):\n",
    "    if len(lst) < 2:\n",
    "        yield []\n",
    "        return\n",
    "    \n",
    "    if len(lst) % 2 == 1:\n",
    "        # Handle odd length list\n",
    "        for i in range(len(lst)):\n",
    "            for result in all_pairs(lst[:i] + lst[i+1:]):\n",
    "                yield result\n",
    "    else:\n",
    "        a = lst[0]\n",
    "        for i in range(1,len(lst)):\n",
    "            pair = (a,lst[i])\n",
    "            for rest in all_pairs(lst[1:i]+lst[i+1:]):\n",
    "                yield [pair] + rest\n",
    "\n",
    "                \n",
    "all_pairs(alpha_list) # outputs a generator? "
   ]
  },
  {
   "cell_type": "code",
   "execution_count": 14,
   "metadata": {},
   "outputs": [
    {
     "name": "stdout",
     "output_type": "stream",
     "text": [
      "[[('A', 'B'), ('C', 'D'), ('E', 'F')], [('A', 'B'), ('C', 'E'), ('D', 'F')], [('A', 'B'), ('C', 'F'), ('D', 'E')], [('A', 'C'), ('B', 'D'), ('E', 'F')], [('A', 'C'), ('B', 'E'), ('D', 'F')], [('A', 'C'), ('B', 'F'), ('D', 'E')], [('A', 'D'), ('B', 'C'), ('E', 'F')], [('A', 'D'), ('B', 'E'), ('C', 'F')], [('A', 'D'), ('B', 'F'), ('C', 'E')], [('A', 'E'), ('B', 'C'), ('D', 'F')], [('A', 'E'), ('B', 'D'), ('C', 'F')], [('A', 'E'), ('B', 'F'), ('C', 'D')], [('A', 'F'), ('B', 'C'), ('D', 'E')], [('A', 'F'), ('B', 'D'), ('C', 'E')], [('A', 'F'), ('B', 'E'), ('C', 'D')]]\n",
      "\n",
      "[('A', 'B'), ('C', 'D'), ('E', 'F')]\n",
      "\n",
      "[('A', 'B'), ('C', 'E'), ('D', 'F')]\n",
      "\n",
      "[('A', 'B'), ('C', 'F'), ('D', 'E')]\n",
      "\n",
      "[('A', 'C'), ('B', 'D'), ('E', 'F')]\n",
      "\n",
      "[('A', 'C'), ('B', 'E'), ('D', 'F')]\n",
      "\n",
      "[('A', 'C'), ('B', 'F'), ('D', 'E')]\n",
      "\n",
      "[('A', 'D'), ('B', 'C'), ('E', 'F')]\n",
      "\n",
      "[('A', 'D'), ('B', 'E'), ('C', 'F')]\n",
      "\n",
      "[('A', 'D'), ('B', 'F'), ('C', 'E')]\n",
      "\n",
      "[('A', 'E'), ('B', 'C'), ('D', 'F')]\n",
      "\n",
      "[('A', 'E'), ('B', 'D'), ('C', 'F')]\n",
      "\n",
      "[('A', 'E'), ('B', 'F'), ('C', 'D')]\n",
      "\n",
      "[('A', 'F'), ('B', 'C'), ('D', 'E')]\n",
      "\n",
      "[('A', 'F'), ('B', 'D'), ('C', 'E')]\n",
      "\n",
      "[('A', 'F'), ('B', 'E'), ('C', 'D')]\n"
     ]
    }
   ],
   "source": [
    "def get_list_of_all_pairs_lists(lst):\n",
    "    \n",
    "    list_of_possible_pairs_lists = []\n",
    "    all_pairs_object = all_pairs(lst)\n",
    "    \n",
    "    for pairs_list in all_pairs_object: \n",
    "        list_of_possible_pairs_lists.append(pairs_list)\n",
    "    \n",
    "    return list_of_possible_pairs_lists\n",
    "    \n",
    "# possible_pairings_list = get_list_of_all_pairs_lists(alpha_list)\n",
    "\n",
    "possible_pairings_list = get_list_of_all_pairs_lists(alpha_list)\n",
    "\n",
    "print(possible_pairings_list)\n",
    "\n",
    "for pair_list in possible_pairings_list:\n",
    "    print()\n",
    "    print(pair_list)"
   ]
  },
  {
   "cell_type": "code",
   "execution_count": 11,
   "metadata": {},
   "outputs": [
    {
     "data": {
      "text/plain": [
       "[('A', 'B'), ('A', 'C'), ('A', 'D'), ('B', 'C'), ('B', 'D'), ('C', 'D')]"
      ]
     },
     "execution_count": 11,
     "metadata": {},
     "output_type": "execute_result"
    }
   ],
   "source": [
    "# other ideas:\n",
    "\n",
    "#1.  get list of all possible pairs: \n",
    "\n",
    "\n",
    "from itertools import combinations\n",
    "\n",
    "alpha_list = ['A','B','C','D']\n",
    "\n",
    "def get_list_of_unique_pairs(node_list):\n",
    "\n",
    "    all_possible_combos_iter = combinations(node_list, 2) # makes an object \n",
    "\n",
    "    list_of_unique_pairs = []\n",
    "\n",
    "    for i in all_possible_combos_iter:\n",
    "        list_of_unique_pairs.append(i)\n",
    "    \n",
    "    return(list_of_unique_pairs)\n",
    "\n",
    "get_list_of_unique_pairs(alpha_list)\n",
    "\n",
    "## find ways to combine the pairs where each node only appears once? \n",
    "    # maybe use sets so that the same pair can't be added twice?\n",
    "\n",
    "# loop over nodes_list\n"
   ]
  },
  {
   "cell_type": "code",
   "execution_count": 15,
   "metadata": {},
   "outputs": [
    {
     "name": "stdout",
     "output_type": "stream",
     "text": [
      "[('A', 'B'), ('C', 'D'), ('E', 'F')]\n",
      "[('A', 'B'), ('C', 'E'), ('D', 'F')]\n",
      "[('A', 'B'), ('C', 'F'), ('D', 'E')]\n",
      "[('A', 'C'), ('B', 'D'), ('E', 'F')]\n",
      "[('A', 'C'), ('B', 'E'), ('D', 'F')]\n",
      "[('A', 'C'), ('B', 'F'), ('D', 'E')]\n",
      "[('A', 'D'), ('B', 'C'), ('E', 'F')]\n",
      "[('A', 'D'), ('B', 'E'), ('C', 'F')]\n",
      "[('A', 'D'), ('B', 'F'), ('C', 'E')]\n",
      "[('A', 'E'), ('B', 'C'), ('D', 'F')]\n",
      "[('A', 'E'), ('B', 'D'), ('C', 'F')]\n",
      "[('A', 'E'), ('B', 'F'), ('C', 'D')]\n",
      "[('A', 'F'), ('B', 'C'), ('D', 'E')]\n",
      "[('A', 'F'), ('B', 'D'), ('C', 'E')]\n",
      "[('A', 'F'), ('B', 'E'), ('C', 'D')]\n"
     ]
    }
   ],
   "source": [
    "# updated variables\n",
    "\n",
    "alpha_list = ['A','B','C','D', 'E', 'F']\n",
    "\n",
    "def all_pairs(lst):\n",
    "    \n",
    "    if len(lst) < 2:\n",
    "        # if there are zero items or just one \n",
    "        # return (yield?) an empty list\n",
    "        yield []\n",
    "        return\n",
    "    \n",
    "    if len(lst) % 2 == 1:\n",
    "        # Handle odd length list\n",
    "        for i in range(len(lst)):\n",
    "            \n",
    "            # items from 0 to i \n",
    "            items_to_left_ = lst[:i]    \n",
    "\n",
    "            # items right of i to end of list\n",
    "            items_to_right_ = lst[i+1:]\n",
    "            \n",
    "            for result in all_pairs(items_to_left_ + items_to_right_):\n",
    "                yield result\n",
    "    else:\n",
    "        cur_first_item = lst[0]\n",
    "        \n",
    "        for i in range(1,len(lst)):\n",
    "            \n",
    "            next_item = lst[i]\n",
    "            \n",
    "            pair = (cur_first_item, next_item)\n",
    "            \n",
    "            items_to_left_of_pair = lst[1:i]\n",
    "            items_to_right_of_pair = lst[i+1:]\n",
    "            \n",
    "            for rest in all_pairs(items_to_left_of_pair + items_to_right_of_pair):\n",
    "                yield [pair] + rest\n",
    "\n",
    "for x in all_pairs(alpha_list):\n",
    "    print(x)\n",
    "    "
   ]
  },
  {
   "cell_type": "code",
   "execution_count": null,
   "metadata": {},
   "outputs": [],
   "source": []
  }
 ],
 "metadata": {
  "kernelspec": {
   "display_name": "Python 3",
   "language": "python",
   "name": "python3"
  },
  "language_info": {
   "codemirror_mode": {
    "name": "ipython",
    "version": 3
   },
   "file_extension": ".py",
   "mimetype": "text/x-python",
   "name": "python",
   "nbconvert_exporter": "python",
   "pygments_lexer": "ipython3",
   "version": "3.6.7"
  }
 },
 "nbformat": 4,
 "nbformat_minor": 2
}
